{
 "cells": [
  {
   "cell_type": "markdown",
   "metadata": {},
   "source": [
    "### word2vec\n",
    "1. "
   ]
  },
  {
   "cell_type": "code",
   "execution_count": 3,
   "metadata": {},
   "outputs": [
    {
     "data": {
      "text/plain": [
       "array([ 9.9920398e-01, -1.4802895e-02, -5.7400602e-01,  7.8409803e-01,\n",
       "       -7.2542906e-01,  9.1833329e-01, -9.1885246e-02,  1.6603707e-01,\n",
       "       -3.5591030e-01,  2.9518333e-01,  3.2882474e-02,  6.2465036e-01,\n",
       "        5.0303423e-01, -2.5980657e-01, -2.9447961e-01,  6.6737257e-02,\n",
       "        7.2647803e-02,  1.2671448e-01,  1.1262344e+00, -3.9523226e-01,\n",
       "        3.6722717e-01,  3.9471924e-01, -1.0599240e+00, -7.2073030e-01,\n",
       "       -2.4896973e-01,  3.0629301e-01, -3.8826239e-01,  6.0661340e-01,\n",
       "        6.0219467e-02, -3.0522424e-01,  7.4442571e-01, -4.1942406e-01,\n",
       "       -2.8820930e-02,  4.9998370e-01,  6.9857883e-01,  1.2693849e-01,\n",
       "       -3.1430969e-01, -2.2813067e-01, -4.6605971e-01, -4.7318365e-02,\n",
       "       -2.2543965e-02,  2.0553935e-03, -8.1026238e-01,  1.0983098e+00,\n",
       "       -1.7838500e-01, -3.9635447e-01,  1.4823313e-01, -5.0783940e-02,\n",
       "       -3.1163952e-01,  7.3531795e-01,  8.0891812e-01,  3.8161463e-01,\n",
       "       -1.3794509e-01,  2.6305791e-02, -2.3377961e-01, -2.9650629e-01,\n",
       "        5.9052485e-01,  1.1437991e-02, -1.6380782e-01,  5.4553211e-01,\n",
       "        6.0357293e-04, -1.5512054e-01,  4.6285695e-01, -7.5054757e-02,\n",
       "       -8.2135737e-01, -3.1499496e-01, -1.8461558e-01,  1.2566788e-01,\n",
       "       -4.3885413e-01, -9.7674951e-02, -2.9474273e-01, -2.1510468e-01,\n",
       "       -3.1063002e-01,  1.9672704e-01,  3.0820191e-01,  4.0488610e-01,\n",
       "        9.7834498e-02, -1.4835286e-02,  6.6689062e-01, -1.1914667e+00,\n",
       "       -3.5003269e-01,  3.1865740e-01,  8.2667291e-01,  1.7228989e-01,\n",
       "        2.4528821e-01,  1.2470750e-02, -4.9541545e-01,  3.2969004e-01,\n",
       "        5.0638652e-01, -1.3733627e-01, -1.6515326e-02,  3.5768417e-01,\n",
       "        4.7411335e-01,  1.2428016e-01, -1.2394999e+00,  9.8806816e-01,\n",
       "       -3.4247908e-01,  7.9657191e-01,  5.3980589e-01, -1.6073377e-01],\n",
       "      dtype=float32)"
      ]
     },
     "execution_count": 3,
     "metadata": {},
     "output_type": "execute_result"
    }
   ],
   "source": [
    "import pickle\n",
    "model = pickle.load(open('renmin.model', 'rb'))\n",
    "model.wv[\"祁同伟\"]"
   ]
  },
  {
   "cell_type": "code",
   "execution_count": 13,
   "metadata": {},
   "outputs": [],
   "source": [
    "import pandas as pd\n",
    "import numpy as np\n",
    "import re\n",
    "df = pd.read_csv('../data/csvfinal.csv', delimiter=',')\n",
    "data = np.array(df.iloc[:, 0])\n",
    "new_data = list()\n",
    "for d in data:\n",
    "    new_data.extend(re.split('[\\s]{3}', d))\n",
    "np.savetxt('../data/corpus', new_data, fmt='%s')"
   ]
  },
  {
   "cell_type": "code",
   "execution_count": 10,
   "metadata": {},
   "outputs": [
    {
     "data": {
      "text/html": [
       "<div>\n",
       "<style>\n",
       "    .dataframe thead tr:only-child th {\n",
       "        text-align: right;\n",
       "    }\n",
       "\n",
       "    .dataframe thead th {\n",
       "        text-align: left;\n",
       "    }\n",
       "\n",
       "    .dataframe tbody tr th {\n",
       "        vertical-align: top;\n",
       "    }\n",
       "</style>\n",
       "<table border=\"1\" class=\"dataframe\">\n",
       "  <thead>\n",
       "    <tr style=\"text-align: right;\">\n",
       "      <th></th>\n",
       "      <th>sentence</th>\n",
       "      <th>label</th>\n",
       "    </tr>\n",
       "  </thead>\n",
       "  <tbody>\n",
       "    <tr>\n",
       "      <th>0</th>\n",
       "      <td>不能 关 数据   感觉 好 垃圾</td>\n",
       "      <td>1</td>\n",
       "    </tr>\n",
       "    <tr>\n",
       "      <th>1</th>\n",
       "      <td>手机 便宜   但 声音 有点 小</td>\n",
       "      <td>0</td>\n",
       "    </tr>\n",
       "    <tr>\n",
       "      <th>2</th>\n",
       "      <td>用 了 三天   非常 好   还是 htc 不 一样 的 感觉   非常 流畅   昨天 ...</td>\n",
       "      <td>1</td>\n",
       "    </tr>\n",
       "    <tr>\n",
       "      <th>3</th>\n",
       "      <td>手机 给 老妈 用 的   使用 后 反馈 还 行   声音 比较 大   字体 清楚   ...</td>\n",
       "      <td>1</td>\n",
       "    </tr>\n",
       "    <tr>\n",
       "      <th>4</th>\n",
       "      <td>买 了 一个 星期 多 了   游戏 也 玩 了   没 出现 卡机 现象   屏幕 有 水...</td>\n",
       "      <td>1</td>\n",
       "    </tr>\n",
       "  </tbody>\n",
       "</table>\n",
       "</div>"
      ],
      "text/plain": [
       "                                            sentence  label\n",
       "0                                  不能 关 数据   感觉 好 垃圾      1\n",
       "1                                  手机 便宜   但 声音 有点 小      0\n",
       "2  用 了 三天   非常 好   还是 htc 不 一样 的 感觉   非常 流畅   昨天 ...      1\n",
       "3  手机 给 老妈 用 的   使用 后 反馈 还 行   声音 比较 大   字体 清楚   ...      1\n",
       "4  买 了 一个 星期 多 了   游戏 也 玩 了   没 出现 卡机 现象   屏幕 有 水...      1"
      ]
     },
     "execution_count": 10,
     "metadata": {},
     "output_type": "execute_result"
    }
   ],
   "source": [
    "df.head()"
   ]
  },
  {
   "cell_type": "code",
   "execution_count": 14,
   "metadata": {},
   "outputs": [],
   "source": [
    "from gensim.models import word2vec, KeyedVectors\n",
    "import logging\n",
    "import os, multiprocessing\n",
    "logging.basicConfig(format='%(asctime)s : %(levelname)s : %(message)s', level=logging.INFO)\n",
    "sentences = word2vec.LineSentence('../data/corpus')\n",
    "model = word2vec.Word2Vec(sentences, size=100, window=5, min_count=5, workers=multiprocessing.cpu_count())\n",
    "model.save('../data/w2v_model')\n",
    "model.wv.save_word2vec_format('../data/w2v_vector', binary=False)"
   ]
  },
  {
   "cell_type": "code",
   "execution_count": 1,
   "metadata": {},
   "outputs": [],
   "source": [
    "from gensim.models import word2vec, KeyedVectors\n",
    "model = KeyedVectors.load_word2vec_format(\"../data/w2v_vector\")"
   ]
  },
  {
   "cell_type": "code",
   "execution_count": 7,
   "metadata": {},
   "outputs": [
    {
     "data": {
      "text/plain": [
       "[('硬件', 0.6993486881256104),\n",
       " ('配置', 0.6970819234848022),\n",
       " ('做工', 0.6249018907546997),\n",
       " ('表现', 0.6035253405570984),\n",
       " ('度', 0.6024280190467834),\n",
       " ('处理器', 0.585429310798645),\n",
       " ('功能性', 0.582983136177063),\n",
       " ('颜值', 0.5801089406013489),\n",
       " ('水平', 0.569597601890564),\n",
       " ('实用性', 0.5660215020179749),\n",
       " ('835', 0.5607833862304688),\n",
       " ('工艺', 0.5584577322006226),\n",
       " ('同价位', 0.5522322058677673),\n",
       " ('续航', 0.5508925318717957),\n",
       " ('能力', 0.5453811287879944),\n",
       " ('像素', 0.5359135270118713),\n",
       " ('水准', 0.5356895327568054),\n",
       " ('625', 0.5277519822120667),\n",
       " ('系统优化', 0.5250777006149292),\n",
       " ('960', 0.5235425233840942)]"
      ]
     },
     "execution_count": 7,
     "metadata": {},
     "output_type": "execute_result"
    }
   ],
   "source": [
    "model.most_similar('性能', topn=20)"
   ]
  },
  {
   "cell_type": "code",
   "execution_count": 36,
   "metadata": {},
   "outputs": [
    {
     "data": {
      "text/plain": [
       "array([-1.959490e-01,  5.081760e-01,  5.862000e-01,  1.694193e+00,\n",
       "       -9.695020e-01, -7.843660e-01, -1.468420e-01, -3.669100e-02,\n",
       "       -1.500771e+00,  4.731220e-01,  1.046917e+00,  1.129337e+00,\n",
       "        8.143180e-01,  4.381720e-01, -5.162400e-02,  1.131560e-01,\n",
       "        1.335404e+00, -7.700000e-04, -1.008779e+00,  2.833980e-01,\n",
       "       -5.311570e-01, -6.341220e-01, -2.821300e-01,  1.080215e+00,\n",
       "       -1.489260e+00, -1.741515e+00, -3.092930e-01, -4.467640e-01,\n",
       "        9.213320e-01, -6.654140e-01, -1.284242e+00, -1.036380e+00,\n",
       "       -3.129190e-01, -6.759400e-01, -9.638220e-01, -3.950310e-01,\n",
       "       -6.144690e-01,  4.235550e-01, -4.473370e-01,  5.314100e-01,\n",
       "        9.124300e-02, -1.332745e+00, -1.156050e+00,  8.442140e-01,\n",
       "       -6.041350e-01, -1.483371e+00, -9.150950e-01, -3.032640e-01,\n",
       "       -4.612870e-01, -3.084510e-01,  6.808290e-01, -6.690160e-01,\n",
       "        1.450359e+00, -7.844530e-01,  5.062930e-01,  3.834910e-01,\n",
       "        1.606069e+00,  7.443690e-01,  2.730080e-01, -1.152442e+00,\n",
       "        4.713300e-01,  5.211710e-01, -1.542981e+00,  3.433600e-02,\n",
       "       -5.611700e-01,  2.889810e-01,  7.730930e-01,  9.901970e-01,\n",
       "        4.675960e-01, -1.552183e+00,  5.412900e-01, -1.281850e-01,\n",
       "        8.137200e-02,  2.131540e-01, -2.833154e+00, -5.669600e-01,\n",
       "       -6.299000e-02, -5.386190e-01,  2.587647e+00,  1.277237e+00,\n",
       "        8.855030e-01, -4.699580e-01,  3.872130e-01, -1.250629e+00,\n",
       "        1.503180e-01, -6.065680e-01,  2.399180e-01,  5.795640e-01,\n",
       "       -1.231682e+00,  2.648860e-01,  2.001140e-01,  1.723990e-01,\n",
       "        3.025530e-01, -5.351280e-01,  3.407690e-01,  1.997211e+00,\n",
       "        4.330710e-01, -4.494500e-02,  1.658932e+00, -1.709640e-01],\n",
       "      dtype=float32)"
      ]
     },
     "execution_count": 36,
     "metadata": {},
     "output_type": "execute_result"
    }
   ],
   "source": [
    "model['手机']"
   ]
  },
  {
   "cell_type": "code",
   "execution_count": 6,
   "metadata": {},
   "outputs": [
    {
     "data": {
      "text/plain": [
       "'好'"
      ]
     },
     "execution_count": 6,
     "metadata": {},
     "output_type": "execute_result"
    }
   ],
   "source": [
    "model.doesnt_match(\"性能 华为 好 诺基亚\".split())"
   ]
  },
  {
   "cell_type": "code",
   "execution_count": 41,
   "metadata": {},
   "outputs": [
    {
     "ename": "TypeError",
     "evalue": "accuracy() missing 1 required positional argument: 'questions'",
     "output_type": "error",
     "traceback": [
      "\u001b[0;31m---------------------------------------------------------------------------\u001b[0m",
      "\u001b[0;31mTypeError\u001b[0m                                 Traceback (most recent call last)",
      "\u001b[0;32m<ipython-input-41-8985af591bd6>\u001b[0m in \u001b[0;36m<module>\u001b[0;34m()\u001b[0m\n\u001b[0;32m----> 1\u001b[0;31m \u001b[0mmodel\u001b[0m\u001b[0;34m.\u001b[0m\u001b[0maccuracy\u001b[0m\u001b[0;34m(\u001b[0m\u001b[0;34m)\u001b[0m\u001b[0;34m\u001b[0m\u001b[0m\n\u001b[0m",
      "\u001b[0;31mTypeError\u001b[0m: accuracy() missing 1 required positional argument: 'questions'"
     ]
    }
   ],
   "source": [
    "model.accuracy()"
   ]
  },
  {
   "cell_type": "code",
   "execution_count": null,
   "metadata": {},
   "outputs": [],
   "source": []
  }
 ],
 "metadata": {
  "kernelspec": {
   "display_name": "Python 3",
   "language": "python",
   "name": "python3"
  },
  "language_info": {
   "codemirror_mode": {
    "name": "ipython",
    "version": 3
   },
   "file_extension": ".py",
   "mimetype": "text/x-python",
   "name": "python",
   "nbconvert_exporter": "python",
   "pygments_lexer": "ipython3",
   "version": "3.6.3"
  },
  "toc": {
   "base_numbering": 1,
   "nav_menu": {},
   "number_sections": true,
   "sideBar": true,
   "skip_h1_title": false,
   "title_cell": "Table of Contents",
   "title_sidebar": "Contents",
   "toc_cell": false,
   "toc_position": {},
   "toc_section_display": true,
   "toc_window_display": false
  }
 },
 "nbformat": 4,
 "nbformat_minor": 2
}
